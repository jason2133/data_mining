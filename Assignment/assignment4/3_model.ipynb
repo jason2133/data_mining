{
 "cells": [
  {
   "cell_type": "code",
   "execution_count": 1,
   "metadata": {},
   "outputs": [],
   "source": [
    "import numpy as np\n",
    "import pandas as pd\n",
    "import matplotlib.pyplot as plt\n",
    "import seaborn as sns\n",
    "from IPython.display import Image\n",
    "\n",
    "import warnings\n",
    "warnings.filterwarnings(action='ignore')\n",
    "%matplotlib inline\n",
    "\n",
    "# Scikit-Learn\n",
    "from sklearn.model_selection import train_test_split, cross_val_score, GridSearchCV, KFold\n",
    "from sklearn.linear_model import LinearRegression\n",
    "from sklearn.svm import SVR\n",
    "from sklearn.metrics import mean_squared_error as MSE\n",
    "\n",
    "# Ensemble Learning\n",
    "from catboost import CatBoostRegressor\n",
    "from xgboost import XGBRegressor\n",
    "from lightgbm import LGBMRegressor"
   ]
  },
  {
   "cell_type": "code",
   "execution_count": 2,
   "metadata": {},
   "outputs": [
    {
     "data": {
      "text/html": [
       "<div>\n",
       "<style scoped>\n",
       "    .dataframe tbody tr th:only-of-type {\n",
       "        vertical-align: middle;\n",
       "    }\n",
       "\n",
       "    .dataframe tbody tr th {\n",
       "        vertical-align: top;\n",
       "    }\n",
       "\n",
       "    .dataframe thead th {\n",
       "        text-align: right;\n",
       "    }\n",
       "</style>\n",
       "<table border=\"1\" class=\"dataframe\">\n",
       "  <thead>\n",
       "    <tr style=\"text-align: right;\">\n",
       "      <th></th>\n",
       "      <th>Unnamed: 0</th>\n",
       "      <th>age</th>\n",
       "      <th>continent_num</th>\n",
       "      <th>contract_period</th>\n",
       "      <th>position_num</th>\n",
       "      <th>prefer_foot_num</th>\n",
       "      <th>reputation</th>\n",
       "      <th>stat_overall</th>\n",
       "      <th>stat_potential</th>\n",
       "      <th>stat_skill_moves</th>\n",
       "      <th>value</th>\n",
       "    </tr>\n",
       "  </thead>\n",
       "  <tbody>\n",
       "    <tr>\n",
       "      <th>0</th>\n",
       "      <td>0</td>\n",
       "      <td>31</td>\n",
       "      <td>2</td>\n",
       "      <td>3</td>\n",
       "      <td>4</td>\n",
       "      <td>0</td>\n",
       "      <td>5.0</td>\n",
       "      <td>94</td>\n",
       "      <td>94</td>\n",
       "      <td>4.0</td>\n",
       "      <td>110500000.0</td>\n",
       "    </tr>\n",
       "    <tr>\n",
       "      <th>1</th>\n",
       "      <td>1</td>\n",
       "      <td>27</td>\n",
       "      <td>1</td>\n",
       "      <td>2</td>\n",
       "      <td>1</td>\n",
       "      <td>1</td>\n",
       "      <td>4.0</td>\n",
       "      <td>91</td>\n",
       "      <td>93</td>\n",
       "      <td>1.0</td>\n",
       "      <td>72000000.0</td>\n",
       "    </tr>\n",
       "    <tr>\n",
       "      <th>2</th>\n",
       "      <td>2</td>\n",
       "      <td>31</td>\n",
       "      <td>2</td>\n",
       "      <td>3</td>\n",
       "      <td>4</td>\n",
       "      <td>1</td>\n",
       "      <td>5.0</td>\n",
       "      <td>91</td>\n",
       "      <td>91</td>\n",
       "      <td>3.0</td>\n",
       "      <td>80000000.0</td>\n",
       "    </tr>\n",
       "    <tr>\n",
       "      <th>3</th>\n",
       "      <td>3</td>\n",
       "      <td>32</td>\n",
       "      <td>1</td>\n",
       "      <td>2</td>\n",
       "      <td>2</td>\n",
       "      <td>1</td>\n",
       "      <td>4.0</td>\n",
       "      <td>91</td>\n",
       "      <td>91</td>\n",
       "      <td>3.0</td>\n",
       "      <td>51000000.0</td>\n",
       "    </tr>\n",
       "    <tr>\n",
       "      <th>4</th>\n",
       "      <td>4</td>\n",
       "      <td>25</td>\n",
       "      <td>1</td>\n",
       "      <td>3</td>\n",
       "      <td>1</td>\n",
       "      <td>1</td>\n",
       "      <td>3.0</td>\n",
       "      <td>90</td>\n",
       "      <td>93</td>\n",
       "      <td>1.0</td>\n",
       "      <td>68000000.0</td>\n",
       "    </tr>\n",
       "  </tbody>\n",
       "</table>\n",
       "</div>"
      ],
      "text/plain": [
       "   Unnamed: 0  age  continent_num  contract_period  position_num  \\\n",
       "0           0   31              2                3             4   \n",
       "1           1   27              1                2             1   \n",
       "2           2   31              2                3             4   \n",
       "3           3   32              1                2             2   \n",
       "4           4   25              1                3             1   \n",
       "\n",
       "   prefer_foot_num  reputation  stat_overall  stat_potential  \\\n",
       "0                0         5.0            94              94   \n",
       "1                1         4.0            91              93   \n",
       "2                1         5.0            91              91   \n",
       "3                1         4.0            91              91   \n",
       "4                1         3.0            90              93   \n",
       "\n",
       "   stat_skill_moves        value  \n",
       "0               4.0  110500000.0  \n",
       "1               1.0   72000000.0  \n",
       "2               3.0   80000000.0  \n",
       "3               3.0   51000000.0  \n",
       "4               1.0   68000000.0  "
      ]
     },
     "execution_count": 2,
     "metadata": {},
     "output_type": "execute_result"
    }
   ],
   "source": [
    "fifa_data = pd.read_csv('C:/Users/MILAB/Desktop/자료/2022년 2학기/데이터마이닝/과제4/fifa_data_preprocessing.csv')\n",
    "fifa_data.head()"
   ]
  },
  {
   "cell_type": "markdown",
   "metadata": {},
   "source": [
    "#### Unnamed:0 삭제"
   ]
  },
  {
   "cell_type": "code",
   "execution_count": 3,
   "metadata": {},
   "outputs": [
    {
     "data": {
      "text/html": [
       "<div>\n",
       "<style scoped>\n",
       "    .dataframe tbody tr th:only-of-type {\n",
       "        vertical-align: middle;\n",
       "    }\n",
       "\n",
       "    .dataframe tbody tr th {\n",
       "        vertical-align: top;\n",
       "    }\n",
       "\n",
       "    .dataframe thead th {\n",
       "        text-align: right;\n",
       "    }\n",
       "</style>\n",
       "<table border=\"1\" class=\"dataframe\">\n",
       "  <thead>\n",
       "    <tr style=\"text-align: right;\">\n",
       "      <th></th>\n",
       "      <th>age</th>\n",
       "      <th>continent_num</th>\n",
       "      <th>contract_period</th>\n",
       "      <th>position_num</th>\n",
       "      <th>prefer_foot_num</th>\n",
       "      <th>reputation</th>\n",
       "      <th>stat_overall</th>\n",
       "      <th>stat_potential</th>\n",
       "      <th>stat_skill_moves</th>\n",
       "      <th>value</th>\n",
       "    </tr>\n",
       "  </thead>\n",
       "  <tbody>\n",
       "    <tr>\n",
       "      <th>0</th>\n",
       "      <td>31</td>\n",
       "      <td>2</td>\n",
       "      <td>3</td>\n",
       "      <td>4</td>\n",
       "      <td>0</td>\n",
       "      <td>5.0</td>\n",
       "      <td>94</td>\n",
       "      <td>94</td>\n",
       "      <td>4.0</td>\n",
       "      <td>110500000.0</td>\n",
       "    </tr>\n",
       "    <tr>\n",
       "      <th>1</th>\n",
       "      <td>27</td>\n",
       "      <td>1</td>\n",
       "      <td>2</td>\n",
       "      <td>1</td>\n",
       "      <td>1</td>\n",
       "      <td>4.0</td>\n",
       "      <td>91</td>\n",
       "      <td>93</td>\n",
       "      <td>1.0</td>\n",
       "      <td>72000000.0</td>\n",
       "    </tr>\n",
       "    <tr>\n",
       "      <th>2</th>\n",
       "      <td>31</td>\n",
       "      <td>2</td>\n",
       "      <td>3</td>\n",
       "      <td>4</td>\n",
       "      <td>1</td>\n",
       "      <td>5.0</td>\n",
       "      <td>91</td>\n",
       "      <td>91</td>\n",
       "      <td>3.0</td>\n",
       "      <td>80000000.0</td>\n",
       "    </tr>\n",
       "    <tr>\n",
       "      <th>3</th>\n",
       "      <td>32</td>\n",
       "      <td>1</td>\n",
       "      <td>2</td>\n",
       "      <td>2</td>\n",
       "      <td>1</td>\n",
       "      <td>4.0</td>\n",
       "      <td>91</td>\n",
       "      <td>91</td>\n",
       "      <td>3.0</td>\n",
       "      <td>51000000.0</td>\n",
       "    </tr>\n",
       "    <tr>\n",
       "      <th>4</th>\n",
       "      <td>25</td>\n",
       "      <td>1</td>\n",
       "      <td>3</td>\n",
       "      <td>1</td>\n",
       "      <td>1</td>\n",
       "      <td>3.0</td>\n",
       "      <td>90</td>\n",
       "      <td>93</td>\n",
       "      <td>1.0</td>\n",
       "      <td>68000000.0</td>\n",
       "    </tr>\n",
       "  </tbody>\n",
       "</table>\n",
       "</div>"
      ],
      "text/plain": [
       "   age  continent_num  contract_period  position_num  prefer_foot_num  \\\n",
       "0   31              2                3             4                0   \n",
       "1   27              1                2             1                1   \n",
       "2   31              2                3             4                1   \n",
       "3   32              1                2             2                1   \n",
       "4   25              1                3             1                1   \n",
       "\n",
       "   reputation  stat_overall  stat_potential  stat_skill_moves        value  \n",
       "0         5.0            94              94               4.0  110500000.0  \n",
       "1         4.0            91              93               1.0   72000000.0  \n",
       "2         5.0            91              91               3.0   80000000.0  \n",
       "3         4.0            91              91               3.0   51000000.0  \n",
       "4         3.0            90              93               1.0   68000000.0  "
      ]
     },
     "execution_count": 3,
     "metadata": {},
     "output_type": "execute_result"
    }
   ],
   "source": [
    "fifa_data.pop(\"Unnamed: 0\")\n",
    "fifa_data.head()"
   ]
  },
  {
   "cell_type": "markdown",
   "metadata": {},
   "source": [
    "### Train Data 및 Test Data 분리 - 7 : 3으로\n",
    "#### Random State는 17로 고정"
   ]
  },
  {
   "cell_type": "code",
   "execution_count": 4,
   "metadata": {},
   "outputs": [],
   "source": [
    "X = fifa_data.iloc[:, :-1]\n",
    "y = fifa_data.iloc[:, -1]"
   ]
  },
  {
   "cell_type": "code",
   "execution_count": 5,
   "metadata": {},
   "outputs": [],
   "source": [
    "from sklearn.model_selection import train_test_split\n",
    "X_train, X_test, y_train, y_test = train_test_split(X, y, test_size=0.3, random_state=17)"
   ]
  },
  {
   "cell_type": "code",
   "execution_count": 6,
   "metadata": {},
   "outputs": [
    {
     "data": {
      "text/html": [
       "<div>\n",
       "<style scoped>\n",
       "    .dataframe tbody tr th:only-of-type {\n",
       "        vertical-align: middle;\n",
       "    }\n",
       "\n",
       "    .dataframe tbody tr th {\n",
       "        vertical-align: top;\n",
       "    }\n",
       "\n",
       "    .dataframe thead th {\n",
       "        text-align: right;\n",
       "    }\n",
       "</style>\n",
       "<table border=\"1\" class=\"dataframe\">\n",
       "  <thead>\n",
       "    <tr style=\"text-align: right;\">\n",
       "      <th></th>\n",
       "      <th>age</th>\n",
       "      <th>continent_num</th>\n",
       "      <th>contract_period</th>\n",
       "      <th>position_num</th>\n",
       "      <th>prefer_foot_num</th>\n",
       "      <th>reputation</th>\n",
       "      <th>stat_overall</th>\n",
       "      <th>stat_potential</th>\n",
       "      <th>stat_skill_moves</th>\n",
       "    </tr>\n",
       "  </thead>\n",
       "  <tbody>\n",
       "    <tr>\n",
       "      <th>0</th>\n",
       "      <td>33</td>\n",
       "      <td>2</td>\n",
       "      <td>1</td>\n",
       "      <td>2</td>\n",
       "      <td>0</td>\n",
       "      <td>1.0</td>\n",
       "      <td>69</td>\n",
       "      <td>69</td>\n",
       "      <td>2.0</td>\n",
       "    </tr>\n",
       "    <tr>\n",
       "      <th>1</th>\n",
       "      <td>24</td>\n",
       "      <td>1</td>\n",
       "      <td>1</td>\n",
       "      <td>2</td>\n",
       "      <td>0</td>\n",
       "      <td>1.0</td>\n",
       "      <td>66</td>\n",
       "      <td>70</td>\n",
       "      <td>2.0</td>\n",
       "    </tr>\n",
       "    <tr>\n",
       "      <th>2</th>\n",
       "      <td>23</td>\n",
       "      <td>1</td>\n",
       "      <td>4</td>\n",
       "      <td>3</td>\n",
       "      <td>1</td>\n",
       "      <td>1.0</td>\n",
       "      <td>71</td>\n",
       "      <td>74</td>\n",
       "      <td>3.0</td>\n",
       "    </tr>\n",
       "    <tr>\n",
       "      <th>3</th>\n",
       "      <td>26</td>\n",
       "      <td>1</td>\n",
       "      <td>3</td>\n",
       "      <td>3</td>\n",
       "      <td>1</td>\n",
       "      <td>1.0</td>\n",
       "      <td>67</td>\n",
       "      <td>68</td>\n",
       "      <td>3.0</td>\n",
       "    </tr>\n",
       "    <tr>\n",
       "      <th>4</th>\n",
       "      <td>25</td>\n",
       "      <td>1</td>\n",
       "      <td>2</td>\n",
       "      <td>2</td>\n",
       "      <td>0</td>\n",
       "      <td>1.0</td>\n",
       "      <td>69</td>\n",
       "      <td>72</td>\n",
       "      <td>2.0</td>\n",
       "    </tr>\n",
       "  </tbody>\n",
       "</table>\n",
       "</div>"
      ],
      "text/plain": [
       "   age  continent_num  contract_period  position_num  prefer_foot_num  \\\n",
       "0   33              2                1             2                0   \n",
       "1   24              1                1             2                0   \n",
       "2   23              1                4             3                1   \n",
       "3   26              1                3             3                1   \n",
       "4   25              1                2             2                0   \n",
       "\n",
       "   reputation  stat_overall  stat_potential  stat_skill_moves  \n",
       "0         1.0            69              69               2.0  \n",
       "1         1.0            66              70               2.0  \n",
       "2         1.0            71              74               3.0  \n",
       "3         1.0            67              68               3.0  \n",
       "4         1.0            69              72               2.0  "
      ]
     },
     "execution_count": 6,
     "metadata": {},
     "output_type": "execute_result"
    }
   ],
   "source": [
    "X_train = X_train.reset_index(drop=True)\n",
    "X_test = X_test.reset_index(drop=True)\n",
    "y_train = y_train.reset_index(drop=True)\n",
    "y_test = y_test.reset_index(drop=True)\n",
    "\n",
    "X_train.head()"
   ]
  },
  {
   "cell_type": "code",
   "execution_count": 7,
   "metadata": {},
   "outputs": [
    {
     "name": "stdout",
     "output_type": "stream",
     "text": [
      "(6252, 9)\n",
      "(2680, 9)\n",
      "(6252,)\n",
      "(2680,)\n"
     ]
    }
   ],
   "source": [
    "print(X_train.shape)\n",
    "print(X_test.shape)\n",
    "print(y_train.shape)\n",
    "print(y_test.shape)"
   ]
  },
  {
   "cell_type": "markdown",
   "metadata": {},
   "source": [
    "### 1. Linear Regression"
   ]
  },
  {
   "cell_type": "code",
   "execution_count": 8,
   "metadata": {},
   "outputs": [],
   "source": [
    "import numpy as np\n",
    "import pandas as pd\n",
    "import matplotlib.pyplot as plt\n",
    "\n",
    "from sklearn.metrics import mean_squared_error\n",
    "from sklearn.linear_model import LinearRegression\n",
    "from sklearn.svm import SVR\n",
    "from sklearn.metrics import mean_absolute_error"
   ]
  },
  {
   "cell_type": "code",
   "execution_count": 9,
   "metadata": {},
   "outputs": [
    {
     "data": {
      "text/plain": [
       "LinearRegression()"
      ]
     },
     "execution_count": 9,
     "metadata": {},
     "output_type": "execute_result"
    }
   ],
   "source": [
    "lin_reg = LinearRegression()\n",
    "lin_reg.fit(X_train, y_train)"
   ]
  },
  {
   "cell_type": "code",
   "execution_count": 10,
   "metadata": {},
   "outputs": [
    {
     "name": "stdout",
     "output_type": "stream",
     "text": [
      "Slope: [-398827.17316811    8001.85334655  339772.63325042   79324.13938133\n",
      "  291811.33992462 6366302.05258255  503167.8123908   -58865.16087545\n",
      "  -35296.96520292]\n"
     ]
    }
   ],
   "source": [
    "print('Slope:', lin_reg.coef_)"
   ]
  },
  {
   "cell_type": "code",
   "execution_count": 11,
   "metadata": {},
   "outputs": [
    {
     "name": "stdout",
     "output_type": "stream",
     "text": [
      "Intercept: -24987873.95985577\n"
     ]
    }
   ],
   "source": [
    "print('Intercept:', lin_reg.intercept_)"
   ]
  },
  {
   "cell_type": "code",
   "execution_count": 12,
   "metadata": {},
   "outputs": [
    {
     "name": "stdout",
     "output_type": "stream",
     "text": [
      "MSE\n",
      "MSE Train 11384464109531.379\n",
      "MSE Test 13262641781230.375\n",
      "------------------------------\n",
      "RMSE\n",
      "RMSE Train 3374087.1520355516\n",
      "RMSE Test 3641791.012843869\n",
      "------------------------------\n",
      "MAE\n",
      "MAE Train 1878575.0361935874\n",
      "MAE Test 1905434.7243671922\n",
      "------------------------------\n",
      "R^2\n",
      "R2 Score Train 0.6651468382931064\n",
      "R2 Score Test 0.614245448222158\n",
      "------------------------------\n",
      "PCC\n",
      "PCC Train\n",
      "[[1.         0.81556535]\n",
      " [0.81556535 1.        ]]\n",
      "PCC Test\n",
      "[[1.        0.7837813]\n",
      " [0.7837813 1.       ]]\n"
     ]
    }
   ],
   "source": [
    "y_train_pred = lin_reg.predict(X_train)\n",
    "y_test_pred = lin_reg.predict(X_test)\n",
    "\n",
    "from sklearn.metrics import mean_squared_error\n",
    "from sklearn.metrics import mean_absolute_error\n",
    "from sklearn.metrics import r2_score\n",
    "\n",
    "print('MSE')\n",
    "print('MSE Train', mean_squared_error(y_train, y_train_pred))\n",
    "print('MSE Test', mean_squared_error(y_test, y_test_pred))\n",
    "print('-' * 30)\n",
    "print('RMSE')\n",
    "print('RMSE Train', np.sqrt(mean_squared_error(y_train, y_train_pred)))\n",
    "print('RMSE Test', np.sqrt(mean_squared_error(y_test, y_test_pred)))\n",
    "print('-' * 30)\n",
    "print('MAE')\n",
    "print('MAE Train', mean_absolute_error(y_train, y_train_pred))\n",
    "print('MAE Test', mean_absolute_error(y_test, y_test_pred))\n",
    "print('-' * 30)\n",
    "print('R^2')\n",
    "print('R2 Score Train', r2_score(y_train, y_train_pred))\n",
    "print('R2 Score Test', r2_score(y_test, y_test_pred))\n",
    "print('-' * 30)\n",
    "print('PCC')\n",
    "print('PCC Train')\n",
    "print(np.corrcoef(y_train, y_train_pred))\n",
    "print('PCC Test')\n",
    "print(np.corrcoef(y_test, y_test_pred))"
   ]
  },
  {
   "cell_type": "code",
   "execution_count": 13,
   "metadata": {},
   "outputs": [
    {
     "data": {
      "image/png": "[encoded data removed]",
      "text/plain": [
       "<Figure size 576x576 with 1 Axes>"
      ]
     },
     "metadata": {
      "needs_background": "light"
     },
     "output_type": "display_data"
    }
   ],
   "source": [
    "# Scatter Plot\n",
    "import matplotlib.pyplot as plt\n",
    "plt.figure(figsize=(8, 8))\n",
    "plt.title('Linear Regrssion - Prediction')\n",
    "plt.xlabel('Real')\n",
    "plt.ylabel('Predicted')\n",
    "\n",
    "# X축, Y축 이거 범위를 어떻게 하누?\n",
    "\n",
    "# 110500000\n",
    "# plt.xlim([0, 1e7])\n",
    "# plt.ylim([0, 1e7])\n",
    "plt.xlim([0, 111000000])\n",
    "plt.ylim([0, 111000000])\n",
    "\n",
    "plt.scatter(y_test, y_test_pred)\n",
    "plt.show()"
   ]
  },
  {
   "cell_type": "code",
   "execution_count": 25,
   "metadata": {},
   "outputs": [
    {
     "data": {
      "image/png": "[encoded data removed]",
      "text/plain": [
       "<Figure size 576x576 with 1 Axes>"
      ]
     },
     "metadata": {
      "needs_background": "light"
     },
     "output_type": "display_data"
    }
   ],
   "source": [
    "# Scatter Plot\n",
    "import matplotlib.pyplot as plt\n",
    "plt.figure(figsize=(8, 8))\n",
    "plt.title('Linear Regrssion - Prediction')\n",
    "plt.xlabel('Real')\n",
    "plt.ylabel('Predicted')\n",
    "\n",
    "# X축, Y축 이거 범위를 어떻게 하누?\n",
    "\n",
    "# 110500000\n",
    "plt.xlim([0, 1e7])\n",
    "plt.ylim([0, 1e7])\n",
    "# plt.xlim([0, 111000000])\n",
    "# plt.ylim([0, 111000000])\n",
    "\n",
    "plt.scatter(y_test, y_test_pred)\n",
    "plt.show()"
   ]
  },
  {
   "cell_type": "markdown",
   "metadata": {},
   "source": [
    "### 2. Support Vector Regression (kernel = 'linear')"
   ]
  },
  {
   "cell_type": "code",
   "execution_count": 14,
   "metadata": {},
   "outputs": [],
   "source": [
    "from sklearn.svm import SVR\n",
    "svl = SVR(kernel='linear', C=1.0, epsilon=0.1)\n",
    "svl.fit(X_train, y_train)\n",
    "y_train_pred_svl = svl.predict(X_train)\n",
    "y_test_pred_svl = svl.predict(X_test)"
   ]
  },
  {
   "cell_type": "code",
   "execution_count": 15,
   "metadata": {},
   "outputs": [
    {
     "name": "stdout",
     "output_type": "stream",
     "text": [
      "MSE\n",
      "MSE Train 35212456524619.555\n",
      "MSE Test 35608844653653.97\n",
      "------------------------------\n",
      "RMSE\n",
      "RMSE Train 5934008.470218049\n",
      "RMSE Test 5967314.693700506\n",
      "------------------------------\n",
      "MAE\n",
      "MAE Train 2146380.0828534868\n",
      "MAE Test 2117210.654850746\n",
      "------------------------------\n",
      "R^2\n",
      "R2 Score Train -0.035709918823816134\n",
      "R2 Score Test -0.03571174847962899\n",
      "------------------------------\n",
      "PCC\n",
      "PCC Train\n",
      "[[1.         0.69932685]\n",
      " [0.69932685 1.        ]]\n",
      "PCC Test\n",
      "[[1.         0.68223561]\n",
      " [0.68223561 1.        ]]\n"
     ]
    }
   ],
   "source": [
    "print('MSE')\n",
    "print('MSE Train', mean_squared_error(y_train, y_train_pred_svl))\n",
    "print('MSE Test', mean_squared_error(y_test, y_test_pred_svl))\n",
    "print('-' * 30)\n",
    "print('RMSE')\n",
    "print('RMSE Train', np.sqrt(mean_squared_error(y_train, y_train_pred_svl)))\n",
    "print('RMSE Test', np.sqrt(mean_squared_error(y_test, y_test_pred_svl)))\n",
    "print('-' * 30)\n",
    "print('MAE')\n",
    "print('MAE Train', mean_absolute_error(y_train, y_train_pred_svl))\n",
    "print('MAE Test', mean_absolute_error(y_test, y_test_pred_svl))\n",
    "print('-' * 30)\n",
    "print('R^2')\n",
    "print('R2 Score Train', r2_score(y_train, y_train_pred_svl))\n",
    "print('R2 Score Test', r2_score(y_test, y_test_pred_svl))\n",
    "print('-' * 30)\n",
    "print('PCC')\n",
    "print('PCC Train')\n",
    "print(np.corrcoef(y_train, y_train_pred_svl))\n",
    "print('PCC Test')\n",
    "print(np.corrcoef(y_test, y_test_pred_svl))"
   ]
  },
  {
   "cell_type": "code",
   "execution_count": 19,
   "metadata": {},
   "outputs": [
    {
     "data": {
      "image/png": "[encoded data removed]",
      "text/plain": [
       "<Figure size 576x576 with 1 Axes>"
      ]
     },
     "metadata": {
      "needs_background": "light"
     },
     "output_type": "display_data"
    }
   ],
   "source": [
    "# Scatter Plot\n",
    "import matplotlib.pyplot as plt\n",
    "plt.figure(figsize=(8, 8))\n",
    "plt.title('Support Vector Regrssion (kernel = linear) - Prediction')\n",
    "plt.xlabel('Real')\n",
    "plt.ylabel('Predicted')\n",
    "\n",
    "# X축, Y축 이거 범위를 어떻게 하누?\n",
    "\n",
    "# 110500000\n",
    "# plt.xlim([0, 1e7])\n",
    "# plt.ylim([0, 1e7])\n",
    "plt.xlim([0, 111000000])\n",
    "plt.ylim([0, 111000000])\n",
    "\n",
    "plt.scatter(y_test, y_test_pred_svl)\n",
    "plt.show()"
   ]
  },
  {
   "cell_type": "code",
   "execution_count": 26,
   "metadata": {},
   "outputs": [
    {
     "data": {
      "image/png": "[encoded data removed]",
      "text/plain": [
       "<Figure size 576x576 with 1 Axes>"
      ]
     },
     "metadata": {
      "needs_background": "light"
     },
     "output_type": "display_data"
    }
   ],
   "source": [
    "# Scatter Plot\n",
    "import matplotlib.pyplot as plt\n",
    "plt.figure(figsize=(8, 8))\n",
    "plt.title('Support Vector Regrssion (kernel = linear) - Prediction')\n",
    "plt.xlabel('Real')\n",
    "plt.ylabel('Predicted')\n",
    "\n",
    "# X축, Y축 이거 범위를 어떻게 하누?\n",
    "\n",
    "# 110500000\n",
    "plt.xlim([0, 1e7])\n",
    "plt.ylim([0, 1e7])\n",
    "# plt.xlim([0, 111000000])\n",
    "# plt.ylim([0, 111000000])\n",
    "\n",
    "plt.scatter(y_test, y_test_pred_svl)\n",
    "plt.show()"
   ]
  },
  {
   "cell_type": "markdown",
   "metadata": {},
   "source": [
    "### 3. Support Vector Regression (kernel = 'rbf')"
   ]
  },
  {
   "cell_type": "code",
   "execution_count": 20,
   "metadata": {},
   "outputs": [],
   "source": [
    "from sklearn.svm import SVR\n",
    "svr = SVR(kernel='rbf', C=1.0, epsilon=0.1, gamma='scale')\n",
    "svr.fit(X_train, y_train)\n",
    "y_train_pred_svr = svr.predict(X_train)\n",
    "y_test_pred_svr = svr.predict(X_test)"
   ]
  },
  {
   "cell_type": "code",
   "execution_count": 21,
   "metadata": {},
   "outputs": [
    {
     "name": "stdout",
     "output_type": "stream",
     "text": [
      "MSE\n",
      "MSE Train 37931558970910.7\n",
      "MSE Test 38251488775944.23\n",
      "------------------------------\n",
      "RMSE\n",
      "RMSE Train 6158860.200630528\n",
      "RMSE Test 6184778.79765673\n",
      "------------------------------\n",
      "MAE\n",
      "MAE Train 2390867.7588231517\n",
      "MAE Test 2358960.5017299196\n",
      "------------------------------\n",
      "R^2\n",
      "R2 Score Train -0.11568733738172998\n",
      "R2 Score Test -0.11257516797913825\n",
      "------------------------------\n",
      "PCC\n",
      "PCC Train\n",
      "[[1.         0.68815094]\n",
      " [0.68815094 1.        ]]\n",
      "PCC Test\n",
      "[[1.        0.6696301]\n",
      " [0.6696301 1.       ]]\n"
     ]
    }
   ],
   "source": [
    "print('MSE')\n",
    "print('MSE Train', mean_squared_error(y_train, y_train_pred_svr))\n",
    "print('MSE Test', mean_squared_error(y_test, y_test_pred_svr))\n",
    "print('-' * 30)\n",
    "print('RMSE')\n",
    "print('RMSE Train', np.sqrt(mean_squared_error(y_train, y_train_pred_svr)))\n",
    "print('RMSE Test', np.sqrt(mean_squared_error(y_test, y_test_pred_svr)))\n",
    "print('-' * 30)\n",
    "print('MAE')\n",
    "print('MAE Train', mean_absolute_error(y_train, y_train_pred_svr))\n",
    "print('MAE Test', mean_absolute_error(y_test, y_test_pred_svr))\n",
    "print('-' * 30)\n",
    "print('R^2')\n",
    "print('R2 Score Train', r2_score(y_train, y_train_pred_svr))\n",
    "print('R2 Score Test', r2_score(y_test, y_test_pred_svr))\n",
    "print('-' * 30)\n",
    "print('PCC')\n",
    "print('PCC Train')\n",
    "print(np.corrcoef(y_train, y_train_pred_svr))\n",
    "print('PCC Test')\n",
    "print(np.corrcoef(y_test, y_test_pred_svr))"
   ]
  },
  {
   "cell_type": "code",
   "execution_count": 24,
   "metadata": {},
   "outputs": [
    {
     "data": {
      "image/png": "[encoded data removed]",
      "text/plain": [
       "<Figure size 576x576 with 1 Axes>"
      ]
     },
     "metadata": {
      "needs_background": "light"
     },
     "output_type": "display_data"
    }
   ],
   "source": [
    "# Scatter Plot\n",
    "import matplotlib.pyplot as plt\n",
    "plt.figure(figsize=(8, 8))\n",
    "plt.title('Support Vector Regrssion (kernel = rbf) - Prediction')\n",
    "plt.xlabel('Real')\n",
    "plt.ylabel('Predicted')\n",
    "\n",
    "# X축, Y축 이거 범위를 어떻게 하누?\n",
    "\n",
    "# 110500000\n",
    "# plt.xlim([0, 1e7])\n",
    "# plt.ylim([0, 1e7])\n",
    "plt.xlim([0, 111000000])\n",
    "plt.ylim([0, 111000000])\n",
    "\n",
    "plt.scatter(y_test, y_test_pred_svr)\n",
    "plt.show()"
   ]
  },
  {
   "cell_type": "code",
   "execution_count": 27,
   "metadata": {},
   "outputs": [
    {
     "data": {
      "image/png": "[encoded data removed]",
      "text/plain": [
       "<Figure size 576x576 with 1 Axes>"
      ]
     },
     "metadata": {
      "needs_background": "light"
     },
     "output_type": "display_data"
    }
   ],
   "source": [
    "# Scatter Plot\n",
    "import matplotlib.pyplot as plt\n",
    "plt.figure(figsize=(8, 8))\n",
    "plt.title('Support Vector Regrssion (kernel = rbf) - Prediction')\n",
    "plt.xlabel('Real')\n",
    "plt.ylabel('Predicted')\n",
    "\n",
    "# X축, Y축 이거 범위를 어떻게 하누?\n",
    "\n",
    "# 110500000\n",
    "plt.xlim([0, 1e7])\n",
    "plt.ylim([0, 1e7])\n",
    "# plt.xlim([0, 111000000])\n",
    "# plt.ylim([0, 111000000])\n",
    "\n",
    "plt.scatter(y_test, y_test_pred_svr)\n",
    "plt.show()"
   ]
  },
  {
   "cell_type": "markdown",
   "metadata": {},
   "source": [
    "### 4. MLP Regressor"
   ]
  },
  {
   "cell_type": "code",
   "execution_count": 28,
   "metadata": {},
   "outputs": [],
   "source": [
    "from sklearn.neural_network import MLPRegressor\n",
    "mlp_regressor = MLPRegressor()"
   ]
  },
  {
   "cell_type": "code",
   "execution_count": null,
   "metadata": {},
   "outputs": [],
   "source": []
  },
  {
   "cell_type": "code",
   "execution_count": null,
   "metadata": {},
   "outputs": [],
   "source": []
  },
  {
   "cell_type": "code",
   "execution_count": null,
   "metadata": {},
   "outputs": [],
   "source": []
  },
  {
   "cell_type": "code",
   "execution_count": null,
   "metadata": {},
   "outputs": [],
   "source": []
  },
  {
   "cell_type": "code",
   "execution_count": null,
   "metadata": {},
   "outputs": [],
   "source": []
  },
  {
   "cell_type": "code",
   "execution_count": null,
   "metadata": {},
   "outputs": [],
   "source": []
  },
  {
   "cell_type": "code",
   "execution_count": null,
   "metadata": {},
   "outputs": [],
   "source": []
  },
  {
   "cell_type": "code",
   "execution_count": null,
   "metadata": {},
   "outputs": [],
   "source": []
  },
  {
   "cell_type": "code",
   "execution_count": null,
   "metadata": {},
   "outputs": [],
   "source": []
  },
  {
   "cell_type": "code",
   "execution_count": null,
   "metadata": {},
   "outputs": [],
   "source": []
  },
  {
   "cell_type": "code",
   "execution_count": null,
   "metadata": {},
   "outputs": [],
   "source": []
  },
  {
   "cell_type": "code",
   "execution_count": null,
   "metadata": {},
   "outputs": [],
   "source": []
  },
  {
   "cell_type": "code",
   "execution_count": null,
   "metadata": {},
   "outputs": [],
   "source": []
  },
  {
   "cell_type": "code",
   "execution_count": null,
   "metadata": {},
   "outputs": [],
   "source": []
  },
  {
   "cell_type": "code",
   "execution_count": null,
   "metadata": {},
   "outputs": [],
   "source": []
  },
  {
   "cell_type": "code",
   "execution_count": null,
   "metadata": {},
   "outputs": [],
   "source": []
  },
  {
   "cell_type": "code",
   "execution_count": null,
   "metadata": {},
   "outputs": [],
   "source": []
  },
  {
   "cell_type": "code",
   "execution_count": null,
   "metadata": {},
   "outputs": [],
   "source": []
  },
  {
   "cell_type": "code",
   "execution_count": null,
   "metadata": {},
   "outputs": [],
   "source": []
  },
  {
   "cell_type": "code",
   "execution_count": null,
   "metadata": {},
   "outputs": [],
   "source": []
  },
  {
   "cell_type": "code",
   "execution_count": null,
   "metadata": {},
   "outputs": [],
   "source": []
  },
  {
   "cell_type": "code",
   "execution_count": null,
   "metadata": {},
   "outputs": [],
   "source": []
  }
 ],
 "metadata": {
  "kernelspec": {
   "display_name": "Python 3.7.13 ('torchpy37')",
   "language": "python",
   "name": "python3"
  },
  "language_info": {
   "codemirror_mode": {
    "name": "ipython",
    "version": 3
   },
   "file_extension": ".py",
   "mimetype": "text/x-python",
   "name": "python",
   "nbconvert_exporter": "python",
   "pygments_lexer": "ipython3",
   "version": "3.7.13"
  },
  "orig_nbformat": 4,
  "vscode": {
   "interpreter": {
    "hash": "3ed2c1ca6bf632e2dcf84ca06bde32b2103b3f7229371ed9eabdcc8ca5edba7e"
   }
  }
 },
 "nbformat": 4,
 "nbformat_minor": 2
}
