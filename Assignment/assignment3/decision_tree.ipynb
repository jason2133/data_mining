{
 "cells": [
  {
   "cell_type": "code",
   "execution_count": null,
   "metadata": {},
   "outputs": [],
   "source": [
    "DT_MODEL_DEP3= DecisionTreeClassifier(max_depth=3, random_state=0) \n",
    "DT_MODEL_DEP3.fit(X_train, y_train)\n",
    "\n",
    "y_score = prediction_DEP3=DT_MODEL_DEP3.predict(X_test)\n",
    "\n",
    "CM_DEP3=confusion_matrix(y_test, prediction_DEP3)\n",
    "CM_report_DEP3=classification_report(y_test, prediction_DEP3)\n",
    "\n",
    "print('-'*15, 'Confusion Matrix','-'*15)\n",
    "print(CM_DEP3)\n",
    "print('-'*20, '성능평가','-'*20)\n",
    "print(CM_report_DEP3)\n",
    "\n",
    "plt.figure(figsize=(15,10))\n",
    "plot_tree(DT_MODEL_DEP3, feature_names=load_df.feature_names, class_names=load_df.target_names, filled=True, fontsize=9)\n",
    "plt.show()\n",
    "\n",
    "fpr = dict()\n",
    "tpr = dict()\n",
    "roc_auc = dict()\n",
    "for i in range(n_classes):\n",
    "    fpr[i], tpr[i], _ = roc_curve(y_test[:], y_score[:])\n",
    "    roc_auc[i] = auc(fpr[i], tpr[i])\n",
    "\n",
    "# Compute micro-average ROC curve and ROC area\n",
    "fpr[\"micro\"], tpr[\"micro\"], _ = roc_curve(y_test.ravel(), y_score.ravel())\n",
    "roc_auc[\"micro\"] = auc(fpr[\"micro\"], tpr[\"micro\"])\n",
    "\n",
    "plt.figure()\n",
    "lw = 2\n",
    "plt.plot(\n",
    "    fpr[1],\n",
    "    tpr[1],\n",
    "    color=\"darkorange\",\n",
    "    lw=lw,\n",
    "    label=\"ROC curve (area = %0.2f)\" % roc_auc[1],\n",
    ")\n",
    "plt.plot([0, 1], [0, 1], color=\"navy\", lw=lw, linestyle=\"--\")\n",
    "plt.xlim([0.0, 1.0])\n",
    "plt.ylim([0.0, 1.05])\n",
    "plt.xlabel(\"False Positive Rate\")\n",
    "plt.ylabel(\"True Positive Rate\")\n",
    "plt.title(\"Receiver operating characteristic example\")\n",
    "plt.legend(loc=\"lower right\")\n",
    "plt.show()"
   ]
  }
 ],
 "metadata": {
  "kernelspec": {
   "display_name": "Python 3.7.0 64-bit",
   "language": "python",
   "name": "python3"
  },
  "language_info": {
   "name": "python",
   "version": "3.7.0"
  },
  "orig_nbformat": 4,
  "vscode": {
   "interpreter": {
    "hash": "1a88f144f8e2f79dcb28c1504da9eb36a0d563d52a1b383273568a4c9e218774"
   }
  }
 },
 "nbformat": 4,
 "nbformat_minor": 2
}
