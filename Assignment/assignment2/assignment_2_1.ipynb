{
 "cells": [
  {
   "cell_type": "code",
   "execution_count": 84,
   "metadata": {},
   "outputs": [],
   "source": [
    "import numpy as np\n",
    "import pandas as pd\n",
    "from matplotlib import pyplot\n",
    "from sklearn.metrics import mean_squared_error, mean_absolute_error\n",
    "from sklearn.linear_model import LinearRegression\n",
    "from statsmodels.tsa.seasonal import seasonal_decompose\n",
    "from sklearn.model_selection import TimeSeriesSplit\n",
    "from sklearn.model_selection import train_test_split"
   ]
  },
  {
   "cell_type": "code",
   "execution_count": 85,
   "metadata": {},
   "outputs": [
    {
     "data": {
      "text/html": [
       "<div>\n",
       "<style scoped>\n",
       "    .dataframe tbody tr th:only-of-type {\n",
       "        vertical-align: middle;\n",
       "    }\n",
       "\n",
       "    .dataframe tbody tr th {\n",
       "        vertical-align: top;\n",
       "    }\n",
       "\n",
       "    .dataframe thead th {\n",
       "        text-align: right;\n",
       "    }\n",
       "</style>\n",
       "<table border=\"1\" class=\"dataframe\">\n",
       "  <thead>\n",
       "    <tr style=\"text-align: right;\">\n",
       "      <th></th>\n",
       "      <th>Unnamed: 0</th>\n",
       "      <th>측정일시</th>\n",
       "      <th>monthx</th>\n",
       "      <th>monthy</th>\n",
       "      <th>dayx</th>\n",
       "      <th>dayy</th>\n",
       "      <th>hourx</th>\n",
       "      <th>houry</th>\n",
       "      <th>기온(°C)</th>\n",
       "      <th>강수량(mm)</th>\n",
       "      <th>...</th>\n",
       "      <th>일조(hr)</th>\n",
       "      <th>지면온도(°C)</th>\n",
       "      <th>SO2</th>\n",
       "      <th>CO</th>\n",
       "      <th>O3</th>\n",
       "      <th>NO2</th>\n",
       "      <th>PM10</th>\n",
       "      <th>PM25</th>\n",
       "      <th>발전량</th>\n",
       "      <th>발전률</th>\n",
       "    </tr>\n",
       "  </thead>\n",
       "  <tbody>\n",
       "    <tr>\n",
       "      <th>0</th>\n",
       "      <td>0</td>\n",
       "      <td>2017010101</td>\n",
       "      <td>0.5</td>\n",
       "      <td>0.866025</td>\n",
       "      <td>0.201299</td>\n",
       "      <td>0.97953</td>\n",
       "      <td>0.258819</td>\n",
       "      <td>0.965926</td>\n",
       "      <td>-2.4</td>\n",
       "      <td>0.0</td>\n",
       "      <td>...</td>\n",
       "      <td>0.0</td>\n",
       "      <td>-1.3</td>\n",
       "      <td>0.002</td>\n",
       "      <td>0.8</td>\n",
       "      <td>0.010</td>\n",
       "      <td>0.024</td>\n",
       "      <td>60</td>\n",
       "      <td>26</td>\n",
       "      <td>0.0</td>\n",
       "      <td>0.0</td>\n",
       "    </tr>\n",
       "    <tr>\n",
       "      <th>1</th>\n",
       "      <td>1</td>\n",
       "      <td>2017010102</td>\n",
       "      <td>0.5</td>\n",
       "      <td>0.866025</td>\n",
       "      <td>0.201299</td>\n",
       "      <td>0.97953</td>\n",
       "      <td>0.500000</td>\n",
       "      <td>0.866025</td>\n",
       "      <td>-3.0</td>\n",
       "      <td>0.0</td>\n",
       "      <td>...</td>\n",
       "      <td>0.0</td>\n",
       "      <td>-1.5</td>\n",
       "      <td>0.003</td>\n",
       "      <td>0.8</td>\n",
       "      <td>0.008</td>\n",
       "      <td>0.027</td>\n",
       "      <td>51</td>\n",
       "      <td>32</td>\n",
       "      <td>0.0</td>\n",
       "      <td>0.0</td>\n",
       "    </tr>\n",
       "    <tr>\n",
       "      <th>2</th>\n",
       "      <td>2</td>\n",
       "      <td>2017010103</td>\n",
       "      <td>0.5</td>\n",
       "      <td>0.866025</td>\n",
       "      <td>0.201299</td>\n",
       "      <td>0.97953</td>\n",
       "      <td>0.707107</td>\n",
       "      <td>0.707107</td>\n",
       "      <td>-3.1</td>\n",
       "      <td>0.0</td>\n",
       "      <td>...</td>\n",
       "      <td>0.0</td>\n",
       "      <td>-1.7</td>\n",
       "      <td>0.002</td>\n",
       "      <td>0.7</td>\n",
       "      <td>0.011</td>\n",
       "      <td>0.021</td>\n",
       "      <td>53</td>\n",
       "      <td>29</td>\n",
       "      <td>0.0</td>\n",
       "      <td>0.0</td>\n",
       "    </tr>\n",
       "    <tr>\n",
       "      <th>3</th>\n",
       "      <td>3</td>\n",
       "      <td>2017010104</td>\n",
       "      <td>0.5</td>\n",
       "      <td>0.866025</td>\n",
       "      <td>0.201299</td>\n",
       "      <td>0.97953</td>\n",
       "      <td>0.866025</td>\n",
       "      <td>0.500000</td>\n",
       "      <td>-3.5</td>\n",
       "      <td>0.0</td>\n",
       "      <td>...</td>\n",
       "      <td>0.0</td>\n",
       "      <td>-1.8</td>\n",
       "      <td>0.002</td>\n",
       "      <td>0.7</td>\n",
       "      <td>0.008</td>\n",
       "      <td>0.020</td>\n",
       "      <td>46</td>\n",
       "      <td>22</td>\n",
       "      <td>0.0</td>\n",
       "      <td>0.0</td>\n",
       "    </tr>\n",
       "    <tr>\n",
       "      <th>4</th>\n",
       "      <td>4</td>\n",
       "      <td>2017010105</td>\n",
       "      <td>0.5</td>\n",
       "      <td>0.866025</td>\n",
       "      <td>0.201299</td>\n",
       "      <td>0.97953</td>\n",
       "      <td>0.965926</td>\n",
       "      <td>0.258819</td>\n",
       "      <td>-3.6</td>\n",
       "      <td>0.0</td>\n",
       "      <td>...</td>\n",
       "      <td>0.0</td>\n",
       "      <td>-1.9</td>\n",
       "      <td>0.006</td>\n",
       "      <td>0.8</td>\n",
       "      <td>0.007</td>\n",
       "      <td>0.023</td>\n",
       "      <td>45</td>\n",
       "      <td>33</td>\n",
       "      <td>0.0</td>\n",
       "      <td>0.0</td>\n",
       "    </tr>\n",
       "  </tbody>\n",
       "</table>\n",
       "<p>5 rows × 24 columns</p>\n",
       "</div>"
      ],
      "text/plain": [
       "   Unnamed: 0        측정일시  monthx    monthy      dayx     dayy     hourx  \\\n",
       "0           0  2017010101     0.5  0.866025  0.201299  0.97953  0.258819   \n",
       "1           1  2017010102     0.5  0.866025  0.201299  0.97953  0.500000   \n",
       "2           2  2017010103     0.5  0.866025  0.201299  0.97953  0.707107   \n",
       "3           3  2017010104     0.5  0.866025  0.201299  0.97953  0.866025   \n",
       "4           4  2017010105     0.5  0.866025  0.201299  0.97953  0.965926   \n",
       "\n",
       "      houry  기온(°C)  강수량(mm)  ...  일조(hr)  지면온도(°C)    SO2   CO     O3    NO2  \\\n",
       "0  0.965926    -2.4      0.0  ...     0.0      -1.3  0.002  0.8  0.010  0.024   \n",
       "1  0.866025    -3.0      0.0  ...     0.0      -1.5  0.003  0.8  0.008  0.027   \n",
       "2  0.707107    -3.1      0.0  ...     0.0      -1.7  0.002  0.7  0.011  0.021   \n",
       "3  0.500000    -3.5      0.0  ...     0.0      -1.8  0.002  0.7  0.008  0.020   \n",
       "4  0.258819    -3.6      0.0  ...     0.0      -1.9  0.006  0.8  0.007  0.023   \n",
       "\n",
       "   PM10  PM25  발전량  발전률  \n",
       "0    60    26  0.0  0.0  \n",
       "1    51    32  0.0  0.0  \n",
       "2    53    29  0.0  0.0  \n",
       "3    46    22  0.0  0.0  \n",
       "4    45    33  0.0  0.0  \n",
       "\n",
       "[5 rows x 24 columns]"
      ]
     },
     "execution_count": 85,
     "metadata": {},
     "output_type": "execute_result"
    }
   ],
   "source": [
    "data = pd.read_csv('C:/Users/MILAB/Desktop/자료/2022년 2학기/데이터마이닝/과제2/kyungsang_univ_2.csv', encoding='cp949')\n",
    "data.head() "
   ]
  },
  {
   "cell_type": "code",
   "execution_count": 86,
   "metadata": {},
   "outputs": [
    {
     "data": {
      "text/html": [
       "<div>\n",
       "<style scoped>\n",
       "    .dataframe tbody tr th:only-of-type {\n",
       "        vertical-align: middle;\n",
       "    }\n",
       "\n",
       "    .dataframe tbody tr th {\n",
       "        vertical-align: top;\n",
       "    }\n",
       "\n",
       "    .dataframe thead th {\n",
       "        text-align: right;\n",
       "    }\n",
       "</style>\n",
       "<table border=\"1\" class=\"dataframe\">\n",
       "  <thead>\n",
       "    <tr style=\"text-align: right;\">\n",
       "      <th></th>\n",
       "      <th>monthx</th>\n",
       "      <th>monthy</th>\n",
       "      <th>dayx</th>\n",
       "      <th>dayy</th>\n",
       "      <th>hourx</th>\n",
       "      <th>houry</th>\n",
       "      <th>기온(°C)</th>\n",
       "      <th>강수량(mm)</th>\n",
       "      <th>풍속(m__s)</th>\n",
       "      <th>습도(%)</th>\n",
       "      <th>증기압(hPa)</th>\n",
       "      <th>현지기압(hPa)</th>\n",
       "      <th>일조(hr)</th>\n",
       "      <th>지면온도(°C)</th>\n",
       "      <th>SO2</th>\n",
       "      <th>CO</th>\n",
       "      <th>O3</th>\n",
       "      <th>NO2</th>\n",
       "      <th>PM10</th>\n",
       "      <th>PM25</th>\n",
       "    </tr>\n",
       "  </thead>\n",
       "  <tbody>\n",
       "    <tr>\n",
       "      <th>0</th>\n",
       "      <td>0.5</td>\n",
       "      <td>0.866025</td>\n",
       "      <td>0.201299</td>\n",
       "      <td>0.97953</td>\n",
       "      <td>0.258819</td>\n",
       "      <td>0.965926</td>\n",
       "      <td>-5.7</td>\n",
       "      <td>0.0</td>\n",
       "      <td>0.3</td>\n",
       "      <td>49</td>\n",
       "      <td>2.0</td>\n",
       "      <td>1029.8</td>\n",
       "      <td>0.0</td>\n",
       "      <td>-6.3</td>\n",
       "      <td>0.005</td>\n",
       "      <td>0.6</td>\n",
       "      <td>0.017</td>\n",
       "      <td>0.025</td>\n",
       "      <td>35</td>\n",
       "      <td>15</td>\n",
       "    </tr>\n",
       "    <tr>\n",
       "      <th>1</th>\n",
       "      <td>0.5</td>\n",
       "      <td>0.866025</td>\n",
       "      <td>0.201299</td>\n",
       "      <td>0.97953</td>\n",
       "      <td>0.500000</td>\n",
       "      <td>0.866025</td>\n",
       "      <td>-5.9</td>\n",
       "      <td>0.0</td>\n",
       "      <td>0.6</td>\n",
       "      <td>49</td>\n",
       "      <td>1.9</td>\n",
       "      <td>1029.4</td>\n",
       "      <td>0.0</td>\n",
       "      <td>-7.0</td>\n",
       "      <td>0.006</td>\n",
       "      <td>0.6</td>\n",
       "      <td>0.018</td>\n",
       "      <td>0.024</td>\n",
       "      <td>27</td>\n",
       "      <td>12</td>\n",
       "    </tr>\n",
       "    <tr>\n",
       "      <th>2</th>\n",
       "      <td>0.5</td>\n",
       "      <td>0.866025</td>\n",
       "      <td>0.201299</td>\n",
       "      <td>0.97953</td>\n",
       "      <td>0.707107</td>\n",
       "      <td>0.707107</td>\n",
       "      <td>-6.5</td>\n",
       "      <td>0.0</td>\n",
       "      <td>0.5</td>\n",
       "      <td>50</td>\n",
       "      <td>1.9</td>\n",
       "      <td>1029.6</td>\n",
       "      <td>0.0</td>\n",
       "      <td>-7.4</td>\n",
       "      <td>0.006</td>\n",
       "      <td>0.6</td>\n",
       "      <td>0.020</td>\n",
       "      <td>0.022</td>\n",
       "      <td>32</td>\n",
       "      <td>13</td>\n",
       "    </tr>\n",
       "    <tr>\n",
       "      <th>3</th>\n",
       "      <td>0.5</td>\n",
       "      <td>0.866025</td>\n",
       "      <td>0.201299</td>\n",
       "      <td>0.97953</td>\n",
       "      <td>0.866025</td>\n",
       "      <td>0.500000</td>\n",
       "      <td>-7.2</td>\n",
       "      <td>0.0</td>\n",
       "      <td>0.1</td>\n",
       "      <td>57</td>\n",
       "      <td>2.0</td>\n",
       "      <td>1029.7</td>\n",
       "      <td>0.0</td>\n",
       "      <td>-7.7</td>\n",
       "      <td>0.004</td>\n",
       "      <td>0.5</td>\n",
       "      <td>0.030</td>\n",
       "      <td>0.014</td>\n",
       "      <td>27</td>\n",
       "      <td>12</td>\n",
       "    </tr>\n",
       "    <tr>\n",
       "      <th>4</th>\n",
       "      <td>0.5</td>\n",
       "      <td>0.866025</td>\n",
       "      <td>0.201299</td>\n",
       "      <td>0.97953</td>\n",
       "      <td>0.965926</td>\n",
       "      <td>0.258819</td>\n",
       "      <td>-7.4</td>\n",
       "      <td>0.0</td>\n",
       "      <td>0.2</td>\n",
       "      <td>58</td>\n",
       "      <td>2.0</td>\n",
       "      <td>1029.0</td>\n",
       "      <td>0.0</td>\n",
       "      <td>-7.8</td>\n",
       "      <td>0.004</td>\n",
       "      <td>0.5</td>\n",
       "      <td>0.031</td>\n",
       "      <td>0.012</td>\n",
       "      <td>27</td>\n",
       "      <td>12</td>\n",
       "    </tr>\n",
       "  </tbody>\n",
       "</table>\n",
       "</div>"
      ],
      "text/plain": [
       "   monthx    monthy      dayx     dayy     hourx     houry  기온(°C)  강수량(mm)  \\\n",
       "0     0.5  0.866025  0.201299  0.97953  0.258819  0.965926    -5.7      0.0   \n",
       "1     0.5  0.866025  0.201299  0.97953  0.500000  0.866025    -5.9      0.0   \n",
       "2     0.5  0.866025  0.201299  0.97953  0.707107  0.707107    -6.5      0.0   \n",
       "3     0.5  0.866025  0.201299  0.97953  0.866025  0.500000    -7.2      0.0   \n",
       "4     0.5  0.866025  0.201299  0.97953  0.965926  0.258819    -7.4      0.0   \n",
       "\n",
       "   풍속(m__s)  습도(%)  증기압(hPa)  현지기압(hPa)  일조(hr)  지면온도(°C)    SO2   CO     O3  \\\n",
       "0       0.3     49       2.0     1029.8     0.0      -6.3  0.005  0.6  0.017   \n",
       "1       0.6     49       1.9     1029.4     0.0      -7.0  0.006  0.6  0.018   \n",
       "2       0.5     50       1.9     1029.6     0.0      -7.4  0.006  0.6  0.020   \n",
       "3       0.1     57       2.0     1029.7     0.0      -7.7  0.004  0.5  0.030   \n",
       "4       0.2     58       2.0     1029.0     0.0      -7.8  0.004  0.5  0.031   \n",
       "\n",
       "     NO2  PM10  PM25  \n",
       "0  0.025    35    15  \n",
       "1  0.024    27    12  \n",
       "2  0.022    32    13  \n",
       "3  0.014    27    12  \n",
       "4  0.012    27    12  "
      ]
     },
     "execution_count": 86,
     "metadata": {},
     "output_type": "execute_result"
    }
   ],
   "source": [
    "# data.info()\n",
    "# 17520:26280\n",
    "# 26280:\n",
    "X_train = data.iloc[17520:26280, 2:22]\n",
    "X_train = X_train.reset_index(drop=True)\n",
    "X_train.head()"
   ]
  },
  {
   "cell_type": "code",
   "execution_count": 87,
   "metadata": {},
   "outputs": [
    {
     "data": {
      "text/plain": [
       "0    0.0\n",
       "1    0.0\n",
       "2    0.0\n",
       "3    0.0\n",
       "4    0.0\n",
       "Name: 발전량, dtype: float64"
      ]
     },
     "execution_count": 87,
     "metadata": {},
     "output_type": "execute_result"
    }
   ],
   "source": [
    "y_train = data.iloc[17520:26280, 22]\n",
    "y_train = y_train.reset_index(drop=True)\n",
    "y_train.head()"
   ]
  },
  {
   "cell_type": "code",
   "execution_count": 88,
   "metadata": {},
   "outputs": [
    {
     "data": {
      "text/html": [
       "<div>\n",
       "<style scoped>\n",
       "    .dataframe tbody tr th:only-of-type {\n",
       "        vertical-align: middle;\n",
       "    }\n",
       "\n",
       "    .dataframe tbody tr th {\n",
       "        vertical-align: top;\n",
       "    }\n",
       "\n",
       "    .dataframe thead th {\n",
       "        text-align: right;\n",
       "    }\n",
       "</style>\n",
       "<table border=\"1\" class=\"dataframe\">\n",
       "  <thead>\n",
       "    <tr style=\"text-align: right;\">\n",
       "      <th></th>\n",
       "      <th>monthx</th>\n",
       "      <th>monthy</th>\n",
       "      <th>dayx</th>\n",
       "      <th>dayy</th>\n",
       "      <th>hourx</th>\n",
       "      <th>houry</th>\n",
       "      <th>기온(°C)</th>\n",
       "      <th>강수량(mm)</th>\n",
       "      <th>풍속(m__s)</th>\n",
       "      <th>습도(%)</th>\n",
       "      <th>증기압(hPa)</th>\n",
       "      <th>현지기압(hPa)</th>\n",
       "      <th>일조(hr)</th>\n",
       "      <th>지면온도(°C)</th>\n",
       "      <th>SO2</th>\n",
       "      <th>CO</th>\n",
       "      <th>O3</th>\n",
       "      <th>NO2</th>\n",
       "      <th>PM10</th>\n",
       "      <th>PM25</th>\n",
       "    </tr>\n",
       "  </thead>\n",
       "  <tbody>\n",
       "    <tr>\n",
       "      <th>0</th>\n",
       "      <td>0.5</td>\n",
       "      <td>0.866025</td>\n",
       "      <td>0.201299</td>\n",
       "      <td>0.97953</td>\n",
       "      <td>0.258819</td>\n",
       "      <td>0.965926</td>\n",
       "      <td>-6.3</td>\n",
       "      <td>0.0</td>\n",
       "      <td>0.1</td>\n",
       "      <td>55</td>\n",
       "      <td>2.1</td>\n",
       "      <td>1028.5</td>\n",
       "      <td>0.0</td>\n",
       "      <td>-3.3</td>\n",
       "      <td>0.001</td>\n",
       "      <td>0.4</td>\n",
       "      <td>0.027</td>\n",
       "      <td>0.003</td>\n",
       "      <td>11</td>\n",
       "      <td>1</td>\n",
       "    </tr>\n",
       "    <tr>\n",
       "      <th>1</th>\n",
       "      <td>0.5</td>\n",
       "      <td>0.866025</td>\n",
       "      <td>0.201299</td>\n",
       "      <td>0.97953</td>\n",
       "      <td>0.500000</td>\n",
       "      <td>0.866025</td>\n",
       "      <td>-7.2</td>\n",
       "      <td>0.0</td>\n",
       "      <td>0.3</td>\n",
       "      <td>57</td>\n",
       "      <td>2.0</td>\n",
       "      <td>1028.4</td>\n",
       "      <td>0.0</td>\n",
       "      <td>-3.6</td>\n",
       "      <td>0.001</td>\n",
       "      <td>0.5</td>\n",
       "      <td>0.025</td>\n",
       "      <td>0.003</td>\n",
       "      <td>11</td>\n",
       "      <td>3</td>\n",
       "    </tr>\n",
       "    <tr>\n",
       "      <th>2</th>\n",
       "      <td>0.5</td>\n",
       "      <td>0.866025</td>\n",
       "      <td>0.201299</td>\n",
       "      <td>0.97953</td>\n",
       "      <td>0.707107</td>\n",
       "      <td>0.707107</td>\n",
       "      <td>-6.6</td>\n",
       "      <td>0.0</td>\n",
       "      <td>0.8</td>\n",
       "      <td>51</td>\n",
       "      <td>1.9</td>\n",
       "      <td>1028.5</td>\n",
       "      <td>0.0</td>\n",
       "      <td>-4.0</td>\n",
       "      <td>0.001</td>\n",
       "      <td>0.4</td>\n",
       "      <td>0.029</td>\n",
       "      <td>0.001</td>\n",
       "      <td>11</td>\n",
       "      <td>2</td>\n",
       "    </tr>\n",
       "    <tr>\n",
       "      <th>3</th>\n",
       "      <td>0.5</td>\n",
       "      <td>0.866025</td>\n",
       "      <td>0.201299</td>\n",
       "      <td>0.97953</td>\n",
       "      <td>0.866025</td>\n",
       "      <td>0.500000</td>\n",
       "      <td>-6.0</td>\n",
       "      <td>0.0</td>\n",
       "      <td>0.3</td>\n",
       "      <td>41</td>\n",
       "      <td>1.6</td>\n",
       "      <td>1028.6</td>\n",
       "      <td>0.0</td>\n",
       "      <td>-4.0</td>\n",
       "      <td>0.001</td>\n",
       "      <td>0.4</td>\n",
       "      <td>0.025</td>\n",
       "      <td>0.002</td>\n",
       "      <td>13</td>\n",
       "      <td>2</td>\n",
       "    </tr>\n",
       "    <tr>\n",
       "      <th>4</th>\n",
       "      <td>0.5</td>\n",
       "      <td>0.866025</td>\n",
       "      <td>0.201299</td>\n",
       "      <td>0.97953</td>\n",
       "      <td>0.965926</td>\n",
       "      <td>0.258819</td>\n",
       "      <td>-7.0</td>\n",
       "      <td>0.0</td>\n",
       "      <td>0.0</td>\n",
       "      <td>47</td>\n",
       "      <td>1.7</td>\n",
       "      <td>1028.5</td>\n",
       "      <td>0.0</td>\n",
       "      <td>-4.2</td>\n",
       "      <td>0.001</td>\n",
       "      <td>0.5</td>\n",
       "      <td>0.022</td>\n",
       "      <td>0.003</td>\n",
       "      <td>13</td>\n",
       "      <td>2</td>\n",
       "    </tr>\n",
       "  </tbody>\n",
       "</table>\n",
       "</div>"
      ],
      "text/plain": [
       "   monthx    monthy      dayx     dayy     hourx     houry  기온(°C)  강수량(mm)  \\\n",
       "0     0.5  0.866025  0.201299  0.97953  0.258819  0.965926    -6.3      0.0   \n",
       "1     0.5  0.866025  0.201299  0.97953  0.500000  0.866025    -7.2      0.0   \n",
       "2     0.5  0.866025  0.201299  0.97953  0.707107  0.707107    -6.6      0.0   \n",
       "3     0.5  0.866025  0.201299  0.97953  0.866025  0.500000    -6.0      0.0   \n",
       "4     0.5  0.866025  0.201299  0.97953  0.965926  0.258819    -7.0      0.0   \n",
       "\n",
       "   풍속(m__s)  습도(%)  증기압(hPa)  현지기압(hPa)  일조(hr)  지면온도(°C)    SO2   CO     O3  \\\n",
       "0       0.1     55       2.1     1028.5     0.0      -3.3  0.001  0.4  0.027   \n",
       "1       0.3     57       2.0     1028.4     0.0      -3.6  0.001  0.5  0.025   \n",
       "2       0.8     51       1.9     1028.5     0.0      -4.0  0.001  0.4  0.029   \n",
       "3       0.3     41       1.6     1028.6     0.0      -4.0  0.001  0.4  0.025   \n",
       "4       0.0     47       1.7     1028.5     0.0      -4.2  0.001  0.5  0.022   \n",
       "\n",
       "     NO2  PM10  PM25  \n",
       "0  0.003    11     1  \n",
       "1  0.003    11     3  \n",
       "2  0.001    11     2  \n",
       "3  0.002    13     2  \n",
       "4  0.003    13     2  "
      ]
     },
     "execution_count": 88,
     "metadata": {},
     "output_type": "execute_result"
    }
   ],
   "source": [
    "X_test = data.iloc[26280:, 2:22]\n",
    "X_test = X_test.reset_index(drop=True)\n",
    "X_test.head()"
   ]
  },
  {
   "cell_type": "code",
   "execution_count": 89,
   "metadata": {},
   "outputs": [
    {
     "data": {
      "text/plain": [
       "0    0.0\n",
       "1    0.0\n",
       "2    0.0\n",
       "3    0.0\n",
       "4    0.0\n",
       "Name: 발전량, dtype: float64"
      ]
     },
     "execution_count": 89,
     "metadata": {},
     "output_type": "execute_result"
    }
   ],
   "source": [
    "y_test = data.iloc[26280:, 22]\n",
    "y_test = y_test.reset_index(drop=True)\n",
    "y_test.head()"
   ]
  },
  {
   "cell_type": "code",
   "execution_count": 90,
   "metadata": {},
   "outputs": [
    {
     "name": "stdout",
     "output_type": "stream",
     "text": [
      "(8760, 20)\n",
      "(8760,)\n",
      "(8784, 20)\n",
      "(8784,)\n"
     ]
    }
   ],
   "source": [
    "print(X_train.shape)\n",
    "print(y_train.shape)\n",
    "print(X_test.shape)\n",
    "print(y_test.shape)"
   ]
  },
  {
   "cell_type": "code",
   "execution_count": 91,
   "metadata": {},
   "outputs": [
    {
     "data": {
      "text/plain": [
       "LinearRegression()"
      ]
     },
     "execution_count": 91,
     "metadata": {},
     "output_type": "execute_result"
    }
   ],
   "source": [
    "lin_reg = LinearRegression()\n",
    "lin_reg.fit(X_train, y_train)"
   ]
  },
  {
   "cell_type": "code",
   "execution_count": 92,
   "metadata": {},
   "outputs": [
    {
     "name": "stdout",
     "output_type": "stream",
     "text": [
      "Slope: [ 1.22247011e+01  3.01226772e+01 -1.47897219e-01  2.88457222e+00\n",
      "  8.25763059e+00 -7.74133419e+01 -9.00685012e+00 -1.13024854e+00\n",
      "  1.70762093e+00 -9.55138990e-01 -2.36512528e+00  1.08043105e+00\n",
      "  1.56543479e+02  1.31380797e+01  3.18227171e+03 -2.22846737e+01\n",
      " -7.24566506e+02 -2.11001326e+03 -5.73322353e-01  2.64956308e+00]\n"
     ]
    }
   ],
   "source": [
    "print('Slope:', lin_reg.coef_)"
   ]
  },
  {
   "cell_type": "code",
   "execution_count": 93,
   "metadata": {},
   "outputs": [
    {
     "name": "stdout",
     "output_type": "stream",
     "text": [
      "Intercept: -958.4213196307458\n"
     ]
    }
   ],
   "source": [
    "print('Intercept:', lin_reg.intercept_)"
   ]
  },
  {
   "cell_type": "code",
   "execution_count": 97,
   "metadata": {},
   "outputs": [
    {
     "name": "stdout",
     "output_type": "stream",
     "text": [
      "MSE train: 7383.112, test: 7169.623\n",
      "MAE train: 61.373, test: 61.690\n",
      "R^2 train: 0.818, test: 0.822\n"
     ]
    }
   ],
   "source": [
    "y_train_pred = lin_reg.predict(X_train)\n",
    "y_test_pred = lin_reg.predict(X_test)\n",
    "\n",
    "from sklearn.metrics import mean_squared_error\n",
    "print('MSE train: %.3f, test: %.3f' % (mean_squared_error(y_train, y_train_pred), mean_squared_error(y_test, y_test_pred)))\n",
    "\n",
    "from sklearn.metrics import mean_absolute_error\n",
    "print('MAE train: %.3f, test: %.3f' % (mean_absolute_error(y_train, y_train_pred), mean_absolute_error(y_test, y_test_pred)))\n",
    "\n",
    "from sklearn.metrics import r2_score\n",
    "print('R^2 train: %.3f, test: %.3f' % (r2_score(y_train, y_train_pred), r2_score(y_test, y_test_pred)))\n"
   ]
  },
  {
   "cell_type": "code",
   "execution_count": 98,
   "metadata": {},
   "outputs": [],
   "source": [
    "y_pred_lin = lin_reg.predict(X_test)\n",
    "\n",
    "# MSE\n",
    "mse_lin = mean_squared_error(y_test, y_pred_lin)\n",
    "\n",
    "# RMSE\n",
    "rmse_lin = np.sqrt(mse_lin)\n",
    "\n",
    "# MAE\n",
    "mae_lin = mean_absolute_error(y_test, y_pred_lin)\n",
    "\n",
    "# PCC\n",
    "pcc_lin = np.corrcoef(y_test, y_pred_lin)\n"
   ]
  },
  {
   "cell_type": "code",
   "execution_count": 99,
   "metadata": {},
   "outputs": [
    {
     "name": "stdout",
     "output_type": "stream",
     "text": [
      "MSE : 7169.622921420369\n",
      "RMSE : 84.67362589035838\n",
      "MAE : 61.6900876895785\n",
      "PCC : [[1.         0.90816667]\n",
      " [0.90816667 1.        ]]\n"
     ]
    }
   ],
   "source": [
    "print(f'MSE : {mse_lin}')\n",
    "print(f'RMSE : {rmse_lin}')\n",
    "print(f'MAE : {mae_lin}')\n",
    "print(f'PCC : {pcc_lin}')"
   ]
  },
  {
   "cell_type": "code",
   "execution_count": 100,
   "metadata": {},
   "outputs": [
    {
     "data": {
      "image/png": "[encoded data removed]",
      "text/plain": [
       "<Figure size 720x720 with 1 Axes>"
      ]
     },
     "metadata": {
      "needs_background": "light"
     },
     "output_type": "display_data"
    }
   ],
   "source": [
    "import matplotlib.pyplot as plt\n",
    "plt.figure(figsize=(10, 10))\n",
    "plt.title('Prediction of Solar Power Generation')\n",
    "plt.plot(y_test, label='Real')\n",
    "plt.plot(y_pred_lin, color='red', label='Predicted')\n",
    "plt.legend()\n",
    "plt.show()"
   ]
  },
  {
   "cell_type": "code",
   "execution_count": 108,
   "metadata": {},
   "outputs": [
    {
     "name": "stdout",
     "output_type": "stream",
     "text": [
      "[0.80956489 0.85738604 0.60438122 0.82014027 0.79529411]\n",
      "[ -8325.55332867  -7349.69774682 -14110.1139877   -6194.32002176\n",
      "  -7341.6106805 ]\n",
      "[ 8325.55332867  7349.69774682 14110.1139877   6194.32002176\n",
      "  7341.6106805 ]\n"
     ]
    }
   ],
   "source": [
    "# Cross Validation\n",
    "# https://www.kaggle.com/code/jnikhilsai/cross-validation-with-linear-regression\n",
    "\n",
    "from sklearn.linear_model import LinearRegression\n",
    "from sklearn.model_selection import cross_val_score\n",
    "from sklearn.model_selection import KFold\n",
    "from sklearn.model_selection import GridSearchCV\n",
    "from sklearn.pipeline import make_pipeline\n",
    "\n",
    "# 시계열 고려 안한 CV\n",
    "# R2\n",
    "scores = cross_val_score(lin_reg, X_train, y_train, scoring='r2', cv=5)\n",
    "print(scores)\n",
    "\n",
    "# MSE\n",
    "scores = cross_val_score(lin_reg, X_train, y_train, scoring='neg_mean_squared_error', cv=5)\n",
    "print(scores)\n",
    "print(abs(scores))"
   ]
  },
  {
   "cell_type": "code",
   "execution_count": 115,
   "metadata": {},
   "outputs": [],
   "source": [
    "# 시계열 데이터 인위적으로 부위 나누기\n",
    "# Cross-Validation으로\n",
    "\n",
    "data_2019_2020_x = data.iloc[17520:, 2:22]\n",
    "data_2019_2020_x = data_2019_2020_x.reset_index(drop=True)\n",
    "data_2019_2020_y = data.iloc[17520:, 22]\n",
    "data_2019_2020_y = data_2019_2020_y.reset_index(drop=True)"
   ]
  },
  {
   "cell_type": "code",
   "execution_count": 116,
   "metadata": {},
   "outputs": [
    {
     "name": "stdout",
     "output_type": "stream",
     "text": [
      "(17544, 20)\n",
      "(17544,)\n"
     ]
    }
   ],
   "source": [
    "print(data_2019_2020_x.shape)\n",
    "print(data_2019_2020_y.shape)"
   ]
  },
  {
   "cell_type": "code",
   "execution_count": 122,
   "metadata": {},
   "outputs": [],
   "source": [
    "cv_1_x = data_2019_2020_x.iloc[:3000]\n",
    "cv_1_y = data_2019_2020_y.iloc[:3000]\n",
    "\n",
    "cv_2_x = data_2019_2020_x.iloc[3000:6000]\n",
    "cv_2_y = data_2019_2020_y.iloc[3000:6000]\n",
    "\n",
    "cv_3_x = data_2019_2020_x.iloc[6000:9000]\n",
    "cv_3_y = data_2019_2020_y.iloc[6000:9000]\n",
    "\n",
    "cv_4_x = data_2019_2020_x.iloc[9000:12000]\n",
    "cv_4_y = data_2019_2020_y.iloc[9000:12000]\n",
    "\n",
    "cv_5_x = data_2019_2020_x.iloc[12000:15000]\n",
    "cv_5_y = data_2019_2020_y.iloc[12000:15000]\n",
    "\n",
    "cv_6_x = data_2019_2020_x.iloc[15000:]\n",
    "cv_6_y = data_2019_2020_y.iloc[15000:]\n"
   ]
  },
  {
   "cell_type": "code",
   "execution_count": 123,
   "metadata": {},
   "outputs": [
    {
     "name": "stdout",
     "output_type": "stream",
     "text": [
      "(3000, 20)\n",
      "(3000,)\n",
      "(3000, 20)\n",
      "(3000,)\n",
      "(3000, 20)\n",
      "(3000,)\n",
      "(3000, 20)\n",
      "(3000,)\n",
      "(3000, 20)\n",
      "(3000,)\n",
      "(2544, 20)\n",
      "(2544,)\n"
     ]
    }
   ],
   "source": [
    "print(cv_1_x.shape)\n",
    "print(cv_1_y.shape)\n",
    "\n",
    "print(cv_2_x.shape)\n",
    "print(cv_2_y.shape)\n",
    "\n",
    "print(cv_3_x.shape)\n",
    "print(cv_3_y.shape)\n",
    "\n",
    "print(cv_4_x.shape)\n",
    "print(cv_4_y.shape)\n",
    "\n",
    "print(cv_5_x.shape)\n",
    "print(cv_5_y.shape)\n",
    "\n",
    "print(cv_6_x.shape)\n",
    "print(cv_6_y.shape)"
   ]
  },
  {
   "cell_type": "code",
   "execution_count": null,
   "metadata": {},
   "outputs": [],
   "source": [
    "# cv_1 + cv_2\n",
    "y_train_pred_cv_1 = lin_reg.predict(cv_1_x)\n",
    "y_test_pred_cv_1 = lin_reg.predict(X_test)"
   ]
  },
  {
   "cell_type": "code",
   "execution_count": 125,
   "metadata": {},
   "outputs": [],
   "source": [
    "lin_reg = lin_reg.fit(cv_1_x, cv_1_y)\n",
    "lin_reg_cv_1 = lin_reg.predict(cv_2_x)"
   ]
  },
  {
   "cell_type": "code",
   "execution_count": 126,
   "metadata": {},
   "outputs": [
    {
     "name": "stdout",
     "output_type": "stream",
     "text": [
      "[-22.49428891  11.93754278  11.57887144 ...  24.5721889   16.41027674\n",
      "  11.97782993]\n"
     ]
    }
   ],
   "source": [
    "print(lin_reg_cv_1)"
   ]
  },
  {
   "cell_type": "code",
   "execution_count": null,
   "metadata": {},
   "outputs": [],
   "source": []
  },
  {
   "cell_type": "code",
   "execution_count": null,
   "metadata": {},
   "outputs": [],
   "source": []
  }
 ],
 "metadata": {
  "kernelspec": {
   "display_name": "Python 3.7.13 ('torchpy37')",
   "language": "python",
   "name": "python3"
  },
  "language_info": {
   "codemirror_mode": {
    "name": "ipython",
    "version": 3
   },
   "file_extension": ".py",
   "mimetype": "text/x-python",
   "name": "python",
   "nbconvert_exporter": "python",
   "pygments_lexer": "ipython3",
   "version": "3.7.13"
  },
  "orig_nbformat": 4,
  "vscode": {
   "interpreter": {
    "hash": "3ed2c1ca6bf632e2dcf84ca06bde32b2103b3f7229371ed9eabdcc8ca5edba7e"
   }
  }
 },
 "nbformat": 4,
 "nbformat_minor": 2
}
